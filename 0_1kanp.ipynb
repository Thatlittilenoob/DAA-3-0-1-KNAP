{
  "nbformat": 4,
  "nbformat_minor": 0,
  "metadata": {
    "colab": {
      "provenance": []
    },
    "kernelspec": {
      "name": "python3",
      "display_name": "Python 3"
    },
    "language_info": {
      "name": "python"
    }
  },
  "cells": [
    {
      "cell_type": "code",
      "execution_count": null,
      "metadata": {
        "id": "YD0ssxFZEzR4",
        "outputId": "95f0a43b-ad8d-466a-9b95-78025b3f31e4",
        "colab": {
          "base_uri": "https://localhost:8080/"
        }
      },
      "outputs": [
        {
          "output_type": "stream",
          "name": "stdout",
          "text": [
            "220\n"
          ]
        }
      ],
      "source": [
        "def knapSack(W, wt, val, n):\n",
        "\tK = [[0 for x in range(W + 1)] for x in range(n + 1)]\n",
        "\n",
        "\t# Build table K[][] in bottom up manner\n",
        "\tfor i in range(n + 1):\n",
        "\t\tfor w in range(W + 1):\n",
        "\t\t\tif i == 0 or w == 0:\n",
        "\t\t\t\tK[i][w] = 0\n",
        "\t\t\telif wt[i-1] <= w:\n",
        "\t\t\t\tK[i][w] = max(val[i-1]\n",
        "\t\t\t\t\t\t+ K[i-1][w-wt[i-1]],\n",
        "\t\t\t\t\t\t\tK[i-1][w])\n",
        "\t\t\telse:\n",
        "\t\t\t\tK[i][w] = K[i-1][w]\n",
        "\n",
        "\treturn K[n][W]\n",
        "\n",
        "\n",
        "# Driver code\n",
        "val = [60, 100, 120]\n",
        "wt = [10, 20, 30]\n",
        "W = 50\n",
        "n = len(val)\n",
        "print(knapSack(W, wt, val, n))"
      ]
    },
    {
      "cell_type": "code",
      "source": [],
      "metadata": {
        "id": "hOU9R3H8E3pv"
      },
      "execution_count": null,
      "outputs": []
    }
  ]
}